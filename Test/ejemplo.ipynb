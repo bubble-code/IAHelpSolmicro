{
 "cells": [
  {
   "cell_type": "code",
   "execution_count": 1,
   "metadata": {},
   "outputs": [],
   "source": [
    "import spacy\n",
    "import pandas as pd\n",
    "from spacy.matcher import Matcher"
   ]
  },
  {
   "cell_type": "code",
   "execution_count": 2,
   "metadata": {},
   "outputs": [],
   "source": [
    "nlp = spacy.load('es_core_news_lg')"
   ]
  },
  {
   "cell_type": "code",
   "execution_count": 3,
   "metadata": {},
   "outputs": [],
   "source": [
    "text = \"\"\"Solmicro ERP Stocks nos permite llevar el control de las existencias, para poder saber en cualquier momento: ¿Qué cantidad y qué valor tienen los artículos que tengo en los almacenes?.\n",
    "\n",
    "En primer lugar debemos tener en cuenta que para gestionar nuestro stock deberemos tener cierta información registrada en el sistema:\n",
    "\n",
    "Artículos: registrar el producto y configurar el uso de Stocks.\n",
    "Almacenes: registrar nuestros almacenes con sus correspondientes ubicaciones (si trabajamos con almacenes compartimentalizados).\n",
    "Tipos de Movimientos: indicamos qué clase de movimiento se realizan en los almacenes, si estamos sacando o metiendo material o bien tratando con un ajuste por Inventario que no necesariamente es entrada ni salida.\n",
    "Los Criterios de Valoración y las Cuentas contables para la Valoración del almacén, los Inventarios y la Regularización de existencias. Es decir, la gestión de Stocks también nos permite obtener la información contable del cierre de inventario para su posterior envio y gestión en el área de Contabilidad del módulo Financiero.\n",
    "Una vez registrada esta información podremos empezar a realizar los procesos de la gestión de Stocks.\n",
    "\n",
    "Los procesos del circuito de Stocks se refieren a los procesos básicos de la gestión:\n",
    "\n",
    "Realizar los Inventarios.\n",
    "Controlar nuestros Almacenes.\n",
    "Por un lado podremos realizar la entrada y salida de material. Este proceso se realiza durante los procesos de recepción en compras y expedición en ventas, o bien desde la fabricación, con el control de consumibles y materia prima, así como los productos terminados.\n",
    "Generar movimientos que no se encuentren vinculados a ningun proceso gestionable. Realizar ajustes, transferencias, y llevar un histórico de todos los movimientos realizados.\n",
    "Valorar los almacenes. Proceso con el que podremos saber siempre el valor de nuestros almacenes, tanto el valor actual como el valor de una fecha determinada. Igualmente podremos utilizar cualquiera de los criterios de valoración de almacén: FIFO, LIFO, Última Compra, Precio Estándar y Precio Medio.\n",
    "Finalmente se realiza el Cierre del Inventario obteniendo la información contable para el posterior paso, la Regularización de Existencias en el módulo de contabilidad.\n",
    "La Gestión de Stocks incorpora una serie de herramientas que nos permitirán trabajar mas a fondo con nuestro stock, podremos:\n",
    "\n",
    "Planificar nuestros almacenes: podremos establecer cuándo realizar el aprovisionamiento de nuestros almacenes así como mantener el nivel de existencias para evitar o atender roturas de stock.\n",
    "Utilizaremos para ello la gestión del Punto de Pedido, el Stock de Seguridad y el Lote Mínimo de Fabricación.\n",
    "Gestión de Stock Negativo: que nos permitirá bien, evitar realizar expediciones cuando no tengamos material en stock, o bien, si llevamos un buen control de aprovisionamiento, podremos configurar nuestro sistema para que podamos realizar expediciones de material que aunque no tengamos existencias, sepamos que contaremos con el en una fecha determinada.\n",
    "Gestión de nuestros artículos por Lotes.\n",
    "Gestionar nuestros artículos con Números de Serie.\n",
    "Gestionar la devolución de envases retornables.\n",
    "Si trabajamos con más de una unidad de almacenamiento por artículo, podremos llevar una gestión de doble unidad.\n",
    "Inventarios Permanentes.\n",
    "Artículos Obsoletos.\n",
    "Kits de Artículos.\n",
    "Almacenes de Depósito (almacenes \"de cliente\").\n",
    "Además de estos procesos, tendremos a nuestra disposición todas las estadísticas necesarias para poder consultar la disponibilidad y trazabilidad de las referencias durante la gestión del stock.\"\"\""
   ]
  },
  {
   "cell_type": "code",
   "execution_count": 10,
   "metadata": {},
   "outputs": [
    {
     "ename": "TypeError",
     "evalue": "'spacy.matcher.matcher.Matcher' object is not iterable",
     "output_type": "error",
     "traceback": [
      "\u001b[0;31m---------------------------------------------------------------------------\u001b[0m",
      "\u001b[0;31mTypeError\u001b[0m                                 Traceback (most recent call last)",
      "Cell \u001b[0;32mIn[10], line 3\u001b[0m\n\u001b[1;32m      1\u001b[0m documento \u001b[39m=\u001b[39m nlp(text)\n\u001b[1;32m      2\u001b[0m matcher \u001b[39m=\u001b[39m Matcher(nlp\u001b[39m.\u001b[39mvocab)\n\u001b[0;32m----> 3\u001b[0m \u001b[39mfor\u001b[39;00m ceo \u001b[39min\u001b[39;00m matcher:\n\u001b[1;32m      4\u001b[0m     \u001b[39mprint\u001b[39m(ceo)\n\u001b[1;32m      5\u001b[0m patron_1 \u001b[39m=\u001b[39m [{\u001b[39m\"\u001b[39m\u001b[39mLEMMA\u001b[39m\u001b[39m\"\u001b[39m:\u001b[39m'\u001b[39m\u001b[39mGestionar\u001b[39m\u001b[39m'\u001b[39m}]\n",
      "\u001b[0;31mTypeError\u001b[0m: 'spacy.matcher.matcher.Matcher' object is not iterable"
     ]
    }
   ],
   "source": [
    "documento = nlp(text)\n",
    "matcher = Matcher(nlp.vocab)\n",
    "for ceo in matcher:\n",
    "    print(ceo)\n",
    "patron_1 = [{\"LEMMA\":'Gestionar'}]\n",
    "matcher.add('gestionar',[patron_1])\n",
    "resultado = matcher(documento)\n",
    "print(type(matcher))\n",
    "for ver in resultado:\n",
    "    print(ver)"
   ]
  },
  {
   "cell_type": "code",
   "execution_count": 5,
   "metadata": {},
   "outputs": [],
   "source": [
    "for match_id,start,end in matches:\n",
    "    matches_span = documento[start:end]\n",
    "    print(f\"Coincidencia encontrada: {matches_span}\")"
   ]
  }
 ],
 "metadata": {
  "kernelspec": {
   "display_name": "Python 3",
   "language": "python",
   "name": "python3"
  },
  "language_info": {
   "codemirror_mode": {
    "name": "ipython",
    "version": 3
   },
   "file_extension": ".py",
   "mimetype": "text/x-python",
   "name": "python",
   "nbconvert_exporter": "python",
   "pygments_lexer": "ipython3",
   "version": "3.10.12"
  },
  "orig_nbformat": 4
 },
 "nbformat": 4,
 "nbformat_minor": 2
}
