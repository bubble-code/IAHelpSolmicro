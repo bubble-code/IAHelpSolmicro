{
 "cells": [
  {
   "cell_type": "code",
   "execution_count": 2,
   "metadata": {},
   "outputs": [],
   "source": [
    "import tensorflow as tf\n",
    "from sklearn.feature_extraction.text import TfidfVectorizer\n",
    "from sklearn.metrics.pairwise import cosine_similarity\n",
    "from rich import print"
   ]
  },
  {
   "cell_type": "code",
   "execution_count": null,
   "metadata": {},
   "outputs": [],
   "source": [
    "secciones = {\n",
    "    \"Gestión de Artículos\":[],\n",
    "    \"Clasificación\":[],\n",
    "    \"Información y Registro\":[],\n",
    "    \"Alcance Funcional\":[],\n",
    "    \"Gestión de Stocks\":[],\n",
    "    \"Clasificación de Artículos\":[],\n",
    "    \"Tipos de Artículos\":[],\n",
    "    \"Datos de Familias/Subfamilias de Artículo\":[],\n",
    "    \"Crear un Tipo de Artículo\":[],\n",
    "    \"Nueva Familia-Subfamilia\":[],\n",
    "    \"Estados de Artículo\":[],\n",
    "    \"Unidades de Medida\":[],\n",
    "    \"Conversiones Genéricas\":[],\n",
    "    \"Datos del Artículo\":[],\n",
    "    \"Registro de Artículos\":[],\n",
    "    \"Estados del artículo\":[],\n",
    "    \"Unidades de Medida (Doble Unidad)\":[],\n",
    "    \"Factor de Conversión entre distintas unidades de medida\":[],\n",
    "    \"Codificación Automática Avanzada\":[],\n",
    "    \"Configuración Previa\":[],\n",
    "    \"Criterios de Codificación de Artículos\":[],\n",
    "    \"Configurar la codificación automática\":[],\n",
    "    \"Alta de un nuevo elemento codificado\":[],\n",
    "    \"Gestionar los Idiomas (traducciones del artículo)\":[],\n",
    "    \"Gestión de Tallas y Colores\":[],\n",
    "    \"Configurar las Características\":[],\n",
    "    \"Asociar las características a las Familias\":[],\n",
    "    \"Generar artículos a partir de una referencia común\":[]\n",
    "}"
   ]
  },
  {
   "cell_type": "code",
   "execution_count": 3,
   "metadata": {},
   "outputs": [],
   "source": [
    "secciones = [\"\"\" Gestión de Artículos \n",
    "Los artículos son una de las bases principales para el uso de la aplicación, por ello se denominan “Maestro de Información”. Tendremos especial cuidado al realizar los registros de los artículos ya que de ello depende el correcto funcionamiento del sistema.\n",
    "En este manual veremos cómo realizar la Clasificación de los Artículos, la Información de la Ficha del Artículo, el proceso de Registro y los procesos asociados al Alcance funcional que requiramos.\n",
    "Además, junto a la información anterior incluimos y detallamos la operativa de la Gestión de Stocks, esto es, la configuración y gestión de las existencias para una correcta planificación y control del almacén o almacenes de la empresa.\n",
    "\"\"\",\"\"\"Clasificación\n",
    "Debemos entender un artículo no sólo como el producto que se comercializa o fabrica. Un artículo puede ser una Mercadería o los Servicios que ofrecemos, también la Materia Prima o los Semielaborados (producto que aunque no sea el producto final de su proceso de producción, desea llevar un control de stock y de costes, por ejemplo), un nivel de agrupación para varios artículos, etc. Esto hace que un artículo pueda tener una estructura que deberá definir, así como un alcance que deberá indicar: ¿controlo o no su stock?, ¿es un artículo comercializable?, ¿es un kit?, etc…\n",
    "Antes de iniciar el registro de cualquier artículo debemos analizar cuáles son los grupos o Tipos de Artículos en los que vamos a clasificar nuestras referencias. Debemos tener en cuenta que, de cara a poder ofrecer un Catálogo de productos debemos realizar una clasificación, es decir, saber las categorías o familias de artículos con los que vamos a operar (Tipos, Familias y Subfamilias).\n",
    "Por ejemplo, una clasificación inicial estándar podría ser: Existencias Comerciales, Materias Primas y Otros Aprovisionamientos. Donde cada uno de estos grupos puede estar organizado por Familias y Subfamilias.\n",
    "Esta clasificación nos permitirá tener agrupaciones que posteriormente podremos utilizar para mejorar nuestros procesos. Por ejemplo, en procesos comerciales podremos generar descuentos para un grupo (Tipo/Familia) de artículos específico.\n",
    "\"\"\",\"\"\" Alcance Funcional El Maestro de Artículos incide en casi todos los procesos de la aplicación por lo que el manual está en su mayoría vinculado con los manuales de dichos procesos.\n",
    "Es por este motivo que no será necesario ralizar el registro de todos los datos de la ficha del artículo sino que únicamente deberá ceñirse a los que operen en el alcance de su actividad.\n",
    "En el presente manual identificamos cada apartado de información con la funcionalidad vinculada al mismo a fin de determinar las fases de registro conforme se utilice una referencia en uno u otro módulo de la aplicación (ventas, producción, proyectos, etc).\n",
    "Es importante realizar un análisis inicial de las referencias a registrar como Artículos a fin de determinar en primer lugar la Clasificación o Tipos de Artículos ya que el alcance funcional se establece a nivel del Tipo de Artículo.\"\"\",\"\"\" Estados/Bloqueos\n",
    "El control de Estados del artículo permite realizar una gestión de la evolución y operativa de los mismos. Si un artículo se encuentra en estado de homologación, por ejemplo, el sistema puede ser configurado para impedir su expedición. Por otro lado, podemos \"desactivar\" artículos obsoletos e incluso Bloquear artículos por cliente para impedir inciar procesos comerciales hasta que se regularice determinada situación.\n",
    "En definitiva, llevar un control de estados en los artículo será beneficioso en varios aspectos. Por un lado nos permitirá saber qué artículos de mi base de datos se encuentran activos en mis actividades y por otra mantendrá un histórico sobre los artículos obsoletos determinantes para realizar valoraciones en almacenes de material remanente.\"\"\"]"
   ]
  },
  {
   "cell_type": "code",
   "execution_count": 4,
   "metadata": {},
   "outputs": [
    {
     "data": {
      "text/html": [
       "<pre style=\"white-space:pre;overflow-x:auto;line-height:normal;font-family:Menlo,'DejaVu Sans Mono',consolas,'Courier New',monospace\">Pregunta: Cómo se realiza la Clasificación de los Artículos?\n",
       "</pre>\n"
      ],
      "text/plain": [
       "Pregunta: Cómo se realiza la Clasificación de los Artículos?\n"
      ]
     },
     "metadata": {},
     "output_type": "display_data"
    },
    {
     "data": {
      "text/html": [
       "<pre style=\"white-space:pre;overflow-x:auto;line-height:normal;font-family:Menlo,'DejaVu Sans Mono',consolas,'Courier New',monospace\">Sección más relevante:\n",
       " Gestión de Artículos \n",
       "Los artículos son una de las bases principales para el uso de la aplicación, por ello se denominan “Maestro de \n",
       "Información”. Tendremos especial cuidado al realizar los registros de los artículos ya que de ello depende el \n",
       "correcto funcionamiento del sistema.\n",
       "En este manual veremos cómo realizar la Clasificación de los Artículos, la Información de la Ficha del Artículo, el\n",
       "proceso de Registro y los procesos asociados al Alcance funcional que requiramos.\n",
       "Además, junto a la información anterior incluimos y detallamos la operativa de la Gestión de Stocks, esto es, la \n",
       "configuración y gestión de las existencias para una correcta planificación y control del almacén o almacenes de la \n",
       "empresa.\n",
       "\n",
       "\n",
       "</pre>\n"
      ],
      "text/plain": [
       "Sección más relevante:\n",
       " Gestión de Artículos \n",
       "Los artículos son una de las bases principales para el uso de la aplicación, por ello se denominan “Maestro de \n",
       "Información”. Tendremos especial cuidado al realizar los registros de los artículos ya que de ello depende el \n",
       "correcto funcionamiento del sistema.\n",
       "En este manual veremos cómo realizar la Clasificación de los Artículos, la Información de la Ficha del Artículo, el\n",
       "proceso de Registro y los procesos asociados al Alcance funcional que requiramos.\n",
       "Además, junto a la información anterior incluimos y detallamos la operativa de la Gestión de Stocks, esto es, la \n",
       "configuración y gestión de las existencias para una correcta planificación y control del almacén o almacenes de la \n",
       "empresa.\n",
       "\n",
       "\n"
      ]
     },
     "metadata": {},
     "output_type": "display_data"
    },
    {
     "data": {
      "text/html": [
       "<pre style=\"white-space:pre;overflow-x:auto;line-height:normal;font-family:Menlo,'DejaVu Sans Mono',consolas,'Courier New',monospace\">Pregunta: Cuáles son los estados/bloqueos de los artículos?\n",
       "</pre>\n"
      ],
      "text/plain": [
       "Pregunta: Cuáles son los estados/bloqueos de los artículos?\n"
      ]
     },
     "metadata": {},
     "output_type": "display_data"
    },
    {
     "data": {
      "text/html": [
       "<pre style=\"white-space:pre;overflow-x:auto;line-height:normal;font-family:Menlo,'DejaVu Sans Mono',consolas,'Courier New',monospace\">Sección más relevante:\n",
       " Gestión de Artículos \n",
       "Los artículos son una de las bases principales para el uso de la aplicación, por ello se denominan “Maestro de \n",
       "Información”. Tendremos especial cuidado al realizar los registros de los artículos ya que de ello depende el \n",
       "correcto funcionamiento del sistema.\n",
       "En este manual veremos cómo realizar la Clasificación de los Artículos, la Información de la Ficha del Artículo, el\n",
       "proceso de Registro y los procesos asociados al Alcance funcional que requiramos.\n",
       "Además, junto a la información anterior incluimos y detallamos la operativa de la Gestión de Stocks, esto es, la \n",
       "configuración y gestión de las existencias para una correcta planificación y control del almacén o almacenes de la \n",
       "empresa.\n",
       "\n",
       "\n",
       "</pre>\n"
      ],
      "text/plain": [
       "Sección más relevante:\n",
       " Gestión de Artículos \n",
       "Los artículos son una de las bases principales para el uso de la aplicación, por ello se denominan “Maestro de \n",
       "Información”. Tendremos especial cuidado al realizar los registros de los artículos ya que de ello depende el \n",
       "correcto funcionamiento del sistema.\n",
       "En este manual veremos cómo realizar la Clasificación de los Artículos, la Información de la Ficha del Artículo, el\n",
       "proceso de Registro y los procesos asociados al Alcance funcional que requiramos.\n",
       "Además, junto a la información anterior incluimos y detallamos la operativa de la Gestión de Stocks, esto es, la \n",
       "configuración y gestión de las existencias para una correcta planificación y control del almacén o almacenes de la \n",
       "empresa.\n",
       "\n",
       "\n"
      ]
     },
     "metadata": {},
     "output_type": "display_data"
    },
    {
     "data": {
      "text/html": [
       "<pre style=\"white-space:pre;overflow-x:auto;line-height:normal;font-family:Menlo,'DejaVu Sans Mono',consolas,'Courier New',monospace\">Pregunta: Qué es el Alcance Funcional del Maestro de Artículos?\n",
       "</pre>\n"
      ],
      "text/plain": [
       "Pregunta: Qué es el Alcance Funcional del Maestro de Artículos?\n"
      ]
     },
     "metadata": {},
     "output_type": "display_data"
    },
    {
     "data": {
      "text/html": [
       "<pre style=\"white-space:pre;overflow-x:auto;line-height:normal;font-family:Menlo,'DejaVu Sans Mono',consolas,'Courier New',monospace\">Sección más relevante:\n",
       " Gestión de Artículos \n",
       "Los artículos son una de las bases principales para el uso de la aplicación, por ello se denominan “Maestro de \n",
       "Información”. Tendremos especial cuidado al realizar los registros de los artículos ya que de ello depende el \n",
       "correcto funcionamiento del sistema.\n",
       "En este manual veremos cómo realizar la Clasificación de los Artículos, la Información de la Ficha del Artículo, el\n",
       "proceso de Registro y los procesos asociados al Alcance funcional que requiramos.\n",
       "Además, junto a la información anterior incluimos y detallamos la operativa de la Gestión de Stocks, esto es, la \n",
       "configuración y gestión de las existencias para una correcta planificación y control del almacén o almacenes de la \n",
       "empresa.\n",
       "\n",
       "\n",
       "</pre>\n"
      ],
      "text/plain": [
       "Sección más relevante:\n",
       " Gestión de Artículos \n",
       "Los artículos son una de las bases principales para el uso de la aplicación, por ello se denominan “Maestro de \n",
       "Información”. Tendremos especial cuidado al realizar los registros de los artículos ya que de ello depende el \n",
       "correcto funcionamiento del sistema.\n",
       "En este manual veremos cómo realizar la Clasificación de los Artículos, la Información de la Ficha del Artículo, el\n",
       "proceso de Registro y los procesos asociados al Alcance funcional que requiramos.\n",
       "Además, junto a la información anterior incluimos y detallamos la operativa de la Gestión de Stocks, esto es, la \n",
       "configuración y gestión de las existencias para una correcta planificación y control del almacén o almacenes de la \n",
       "empresa.\n",
       "\n",
       "\n"
      ]
     },
     "metadata": {},
     "output_type": "display_data"
    }
   ],
   "source": [
    "preguntas = [\"Cómo se realiza la Clasificación de los Artículos?\",\"Cuáles son los estados/bloqueos de los artículos?\",\"Qué es el Alcance Funcional del Maestro de Artículos?\"]\n",
    "\n",
    "# Concatenar las secciones para el cálculo de TF-IDF\n",
    "texto_secciones = ' '.join(secciones)\n",
    "\n",
    "# Crear el vectorizador TF-IDF y ajustarlo al texto de las secciones\n",
    "vectorizador = TfidfVectorizer()\n",
    "matriz_tfidf = vectorizador.fit_transform([texto_secciones] + preguntas)\n",
    "\n",
    "# Calcular la similitud coseno entre las preguntas y las secciones\n",
    "similitud = cosine_similarity(matriz_tfidf[1:], matriz_tfidf[0])\n",
    "\n",
    "# Encontrar la sección más relevante para cada pregunta\n",
    "for i, pregunta in enumerate(preguntas):\n",
    "    seccion_mas_relevante_idx = similitud[i].argmax()\n",
    "    seccion_mas_relevante = secciones[seccion_mas_relevante_idx]\n",
    "    print(f\"Pregunta: {pregunta}\")\n",
    "    print(f\"Sección más relevante:\\n{seccion_mas_relevante}\\n\")"
   ]
  },
  {
   "cell_type": "code",
   "execution_count": null,
   "metadata": {},
   "outputs": [],
   "source": [
    "# Preguntas de ejemplo (reemplaza esto con preguntas reales)\n",
    "preguntas = [\"Cómo se realiza la Clasificación de los Artículos?\",\"Cuáles son los estados/bloqueos de los artículos?\"]"
   ]
  },
  {
   "cell_type": "code",
   "execution_count": null,
   "metadata": {},
   "outputs": [],
   "source": [
    "# Concatenar las secciones para el cálculo de TF-IDF\n",
    "texto_secciones = ' '.join(secciones)"
   ]
  },
  {
   "cell_type": "code",
   "execution_count": null,
   "metadata": {},
   "outputs": [],
   "source": [
    "# Crear incrustaciones de palabras con TensorFlow (esto es solo un ejemplo)\n",
    "# modelo_embedding = tf.keras.Sequential([\n",
    "#     tf.keras.layers.Embedding(input_dim=len(secciones), output_dim=100)\n",
    "# ])\n",
    "# Crear el vectorizador TF-IDF y ajustarlo al texto de las secciones\n",
    "vectorizador = TfidfVectorizer()\n",
    "matriz_tfidf = vectorizador.fit_transform([texto_secciones] + preguntas)"
   ]
  },
  {
   "cell_type": "code",
   "execution_count": null,
   "metadata": {},
   "outputs": [],
   "source": [
    "# Tokenizar y vectorizar preguntas\n",
    "vectorizador = TfidfVectorizer()\n",
    "preguntas_vectorizadas = vectorizador.fit_transform(preguntas)"
   ]
  },
  {
   "cell_type": "code",
   "execution_count": null,
   "metadata": {},
   "outputs": [],
   "source": [
    "# Calcular similitud coseno entre preguntas y secciones\n",
    "# similitud = cosine_similarity(preguntas_vectorizadas, modelo_embedding.predict(range(len(secciones))))\n",
    "\n",
    "# Calcular la similitud coseno entre el vector de la pregunta y las secciones\n",
    "similitud = cosine_similarity(matriz_tfidf[1:], matriz_tfidf[0])"
   ]
  },
  {
   "cell_type": "code",
   "execution_count": null,
   "metadata": {},
   "outputs": [],
   "source": [
    "# Encontrar la sección más relevante para cada pregunta\n",
    "for i, pregunta in enumerate(preguntas):\n",
    "    seccion_mas_relevante = secciones[similitud[i].argmax()]\n",
    "    print(f\"Pregunta: {pregunta}\")\n",
    "    print(f\"Sección más relevante: {seccion_mas_relevante}\\n\")"
   ]
  }
 ],
 "metadata": {
  "kernelspec": {
   "display_name": "Python 3",
   "language": "python",
   "name": "python3"
  },
  "language_info": {
   "codemirror_mode": {
    "name": "ipython",
    "version": 3
   },
   "file_extension": ".py",
   "mimetype": "text/x-python",
   "name": "python",
   "nbconvert_exporter": "python",
   "pygments_lexer": "ipython3",
   "version": "3.10.12"
  },
  "orig_nbformat": 4
 },
 "nbformat": 4,
 "nbformat_minor": 2
}
