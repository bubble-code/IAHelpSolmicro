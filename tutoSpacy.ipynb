{
 "cells": [
  {
   "cell_type": "code",
   "execution_count": 1,
   "metadata": {},
   "outputs": [
    {
     "name": "stderr",
     "output_type": "stream",
     "text": [
      "c:\\Users\\a.obregon\\.conda\\envs\\kMeans\\Lib\\site-packages\\tqdm\\auto.py:21: TqdmWarning: IProgress not found. Please update jupyter and ipywidgets. See https://ipywidgets.readthedocs.io/en/stable/user_install.html\n",
      "  from .autonotebook import tqdm as notebook_tqdm\n"
     ]
    }
   ],
   "source": [
    "import pandas as pd\n",
    "import spacy\n",
    "nlp = spacy.load('es_core_news_lg')\n",
    "from sentence_transformers import SentenceTransformer, util"
   ]
  },
  {
   "cell_type": "code",
   "execution_count": 2,
   "metadata": {},
   "outputs": [],
   "source": [
    "# Función para cargar el texto desde un archivo con manejo de errores\n",
    "def load_text_from_file(filename, encodings=None):\n",
    "    if encodings is None:\n",
    "        # Lista de codificaciones a probar\n",
    "        encodings = ['utf-8', 'latin-1', 'latin1', 'ISO-8859-1']\n",
    "    for encoding in encodings:\n",
    "        try:\n",
    "            with open(filename, 'r', encoding=encoding) as file:\n",
    "                return file.read()\n",
    "        except UnicodeDecodeError:\n",
    "            pass\n",
    "    raise Exception(\n",
    "        \"No se pudo decodificar el archivo con ninguna codificación.\")"
   ]
  },
  {
   "cell_type": "code",
   "execution_count": 3,
   "metadata": {},
   "outputs": [],
   "source": [
    "def process_sections_text(sections_text):\n",
    "    sections = {}\n",
    "    sections_text1 = sections_text.split(\"\\n\\n\")\n",
    "    for section_text in sections_text1:\n",
    "        lines = section_text.split('\\n')\n",
    "        section_name = lines[0]\n",
    "        section_text = '\\n'.join(lines[1:])\n",
    "        sections[section_name] = section_text\n",
    "    return sections"
   ]
  },
  {
   "cell_type": "code",
   "execution_count": 4,
   "metadata": {},
   "outputs": [],
   "source": [
    "def tokenize_sections(sections, nlp_model):\n",
    "    section_tokenizer = {}\n",
    "    for section_name, section_content in sections.items():\n",
    "        section_doc = nlp_model(section_content)\n",
    "        # section_tokens = [token for token in section_doc]\n",
    "        section_tokenizer[section_name] = section_doc\n",
    "    return section_tokenizer"
   ]
  },
  {
   "cell_type": "code",
   "execution_count": null,
   "metadata": {},
   "outputs": [],
   "source": [
    "def process_query(query, tokenized_sections, nlp_model):\n",
    "    nlp_query = nlp_model(query)\n",
    "    relevant_sections = None\n",
    "    for section in tokenized_sections:"
   ]
  },
  {
   "cell_type": "code",
   "execution_count": 5,
   "metadata": {},
   "outputs": [],
   "source": [
    "file_name = 'text.txt'"
   ]
  },
  {
   "cell_type": "code",
   "execution_count": 22,
   "metadata": {},
   "outputs": [],
   "source": [
    "# Carga el texto desde el archivo con manejo de errores\n",
    "try:\n",
    "    text = load_text_from_file(file_name)\n",
    "except Exception as e:\n",
    "    print(\"Error:\", e)\n",
    "    exit(1)"
   ]
  },
  {
   "cell_type": "code",
   "execution_count": 23,
   "metadata": {},
   "outputs": [],
   "source": [
    "sections = process_sections_text(text)\n",
    "section_tokenizer = tokenize_sections(sections, nlp)"
   ]
  },
  {
   "cell_type": "code",
   "execution_count": 24,
   "metadata": {},
   "outputs": [],
   "source": [
    "# embedder = SentenceTransformer('paraphrase-MiniLM-L6-v2')  # Carga un modelo de embeddings\n",
    "embedder = SentenceTransformer('multi-qa-MiniLM-L6-cos-v1')  # Carga un modelo de embeddings"
   ]
  },
  {
   "cell_type": "code",
   "execution_count": 29,
   "metadata": {},
   "outputs": [],
   "source": [
    "# questions = [\"Como realizar una gestión de la evolución y operativa de los artículos\"]\n",
    "questions = \"Como realizar una gestión de la evolución y operativa de los artículos\"\n",
    "query_embedding = embedder.encode(questions, convert_to_tensor=True)"
   ]
  },
  {
   "cell_type": "code",
   "execution_count": 49,
   "metadata": {},
   "outputs": [],
   "source": [
    "# Dividir en oraciones utilizando SpaCy\n",
    "sentences = nlp(text).sents  \n",
    "sentence_embeddings = []\n",
    "for sentence in sentences:\n",
    "    sentence_embedding = embedder.encode(sentence.text, convert_to_tensor=True)\n",
    "    sentence_embeddings.append((sentence.text, sentence_embedding))"
   ]
  },
  {
   "cell_type": "code",
   "execution_count": 52,
   "metadata": {},
   "outputs": [
    {
     "name": "stdout",
     "output_type": "stream",
     "text": [
      "Por un lado nos permitirá saber qué artículos de mi base de datos se encuentran activos en mis actividades y por otra mantendrá un histórico sobre los artículos obsoletos determinantes para realizar valoraciones en almacenes de material remanente.\n",
      "\n",
      "\n",
      "Gestión de Artículos (Procesos)\n",
      "Registro de Artículos\n",
      "¿Cómo incorporar los Artículos al sistema?\n",
      "\n",
      "Categorías TPV\n",
      "Un ejemplo de la particularidad de gestión de los artículos reside en los aspectos que requiere para realizar correctamente las funciones esperadas.\n",
      "Permite crear nuevos Estados que permitan identificar fases de la evolución de los artículos, como por ejemplo, los artículos obsoletos.\n",
      "\n",
      "Configura los Contadores o los Criterios para la Codificación Avanzada de artículos.\n",
      "\n",
      "Tendremos especial cuidado al realizar los registros de los artículos ya que de ello depende el correcto funcionamiento del sistema.\n",
      "\n",
      "Para obtener el código del artículo, pulsa sobre el botón Acceso a la codificación automática y avanzada de artículos .\n",
      "\n",
      "Proceso:\n",
      "Acude a Estados de Artículos.\n",
      "\n",
      "Estados/Bloqueos\n",
      "El control de Estados del artículo permite realizar una gestión de la evolución y operativa de los mismos.\n",
      "Codificar automáticamente los artículos a partir de los identificadores de Tipo y Familia de artículo.\n",
      "Un artículo puede ser una Mercadería o los Servicios que ofrecemos, también la Materia Prima o los Semielaborados (producto que aunque no sea el producto final de su proceso de producción, desea llevar un control de stock y de costes, por ejemplo), un nivel de agrupación para varios artículos, etc.\n",
      "Configuración Previa\n",
      "El uso de la codificación avanzada requiere no utilizar un Contador predeterminado asociado a la entidad: Artículos.\n",
      "\n",
      "Esto hace que un artículo pueda tener una estructura que deberá definir, así como un alcance que deberá indicar: ¿controlo o no su stock?, ¿es un artículo comercializable?\n",
      "Artículos Activos y sin Uso\n",
      "Permite localizar los articulos que no han tenido movimientos desde una fecha determinada con la finalidad de saber en todo momento qué articulos tenemos y no usamos.\n",
      "\n",
      "Información de Artículos\n",
      "A continuación detallamos los parámetros funcionales y los maestros de información auxiliar necesaria para la correcta gestión de los artículos.\n",
      "\n",
      "En este manual veremos cómo realizar la Clasificación de los Artículos, la Información de la Ficha del Artículo, el proceso de Registro y los procesos asociados al Alcance funcional que requiramos.\n",
      "\n",
      "Se establecen a nivel del Tipo de Artículoy pasan al Artículo (apartado Almacenes) de forma predeterminada con el objetivo de facilitar el registro y gestión de referencias pudiéndose modificar en el artículo.\n",
      "\n",
      "Mantenimientos Auxiliares\n",
      "Estados de Artículo\n",
      "Muestra la información correspondiente a los distintos Estados susceptibles de asociar a cada uno de los artículos, productos o referencias.\n",
      "\n",
      "La descripción propuesta se crea a partir de la descripción del artículo padre añadiéndole el texto descriptivo de las variables utilizadas, según el ejemplo se propone: Pantalla PC LCD modelo ZK10_14’’, etc.\n",
      "Selecciona de los artículos pre-generados los que deseas registrar ya que puede ocurrir que alguna de las combinaciones obtenidas no vaya a ser gestionada y por lo tanto no interese crear la correspondiente ficha de artículo.\n",
      "\n",
      "Efectos:\n",
      "En la información del artículo (apartado Unidades/Precios) se registran/muestran las Unidades empleadas en los circuitos de Venta, Compra y Almacén del artículo.\n"
     ]
    }
   ],
   "source": [
    "# Calcular la similitud con las oraciones y almacenar en una lista\n",
    "similarity_list = []\n",
    "for sentence_text, sentence_embedding in sentence_embeddings:\n",
    "    similarity = util.pytorch_cos_sim(query_embedding, sentence_embedding)[0][0].item()\n",
    "    similarity_list.append((sentence_text, similarity))\n",
    "\n",
    "# Ordenar la lista por similitud en orden descendente\n",
    "similarity_list.sort(key=lambda x: x[1], reverse=True)\n",
    "# Mostrar las primeras 20 oraciones más similares\n",
    "for i, (sentence, similarity) in enumerate(similarity_list[:20]):\n",
    "    print(sentence)\n",
    "    # print(f\"Oración {i+1}:\")\n",
    "    # print(\"Texto:\", sentence)\n",
    "    # print(\"Similitud:\", similarity)\n",
    "    # print()"
   ]
  }
 ],
 "metadata": {
  "kernelspec": {
   "display_name": "kMeans",
   "language": "python",
   "name": "python3"
  },
  "language_info": {
   "codemirror_mode": {
    "name": "ipython",
    "version": 3
   },
   "file_extension": ".py",
   "mimetype": "text/x-python",
   "name": "python",
   "nbconvert_exporter": "python",
   "pygments_lexer": "ipython3",
   "version": "3.11.4"
  },
  "orig_nbformat": 4
 },
 "nbformat": 4,
 "nbformat_minor": 2
}
