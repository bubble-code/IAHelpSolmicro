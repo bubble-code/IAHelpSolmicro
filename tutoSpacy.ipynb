{
 "cells": [
  {
   "cell_type": "code",
   "execution_count": 1,
   "metadata": {},
   "outputs": [
    {
     "name": "stderr",
     "output_type": "stream",
     "text": [
      "c:\\Users\\a.obregon\\.conda\\envs\\kMeans\\Lib\\site-packages\\tqdm\\auto.py:21: TqdmWarning: IProgress not found. Please update jupyter and ipywidgets. See https://ipywidgets.readthedocs.io/en/stable/user_install.html\n",
      "  from .autonotebook import tqdm as notebook_tqdm\n"
     ]
    }
   ],
   "source": [
    "import pandas as pd\n",
    "import spacy\n",
    "nlp = spacy.load('es_core_news_lg')\n",
    "from sentence_transformers import SentenceTransformer, util"
   ]
  },
  {
   "cell_type": "code",
   "execution_count": 2,
   "metadata": {},
   "outputs": [],
   "source": [
    "# Función para cargar el texto desde un archivo con manejo de errores\n",
    "def load_text_from_file(filename, encodings=None):\n",
    "    if encodings is None:\n",
    "        # Lista de codificaciones a probar\n",
    "        encodings = ['utf-8', 'latin-1', 'latin1', 'ISO-8859-1']\n",
    "    for encoding in encodings:\n",
    "        try:\n",
    "            with open(filename, 'r', encoding=encoding) as file:\n",
    "                return file.read()\n",
    "        except UnicodeDecodeError:\n",
    "            pass\n",
    "    raise Exception(\n",
    "        \"No se pudo decodificar el archivo con ninguna codificación.\")"
   ]
  },
  {
   "cell_type": "code",
   "execution_count": 3,
   "metadata": {},
   "outputs": [],
   "source": [
    "def process_sections_text(sections_text):\n",
    "    sections = {}\n",
    "    sections_text1 = sections_text.split(\"\\n\\n\")\n",
    "    for section_text in sections_text1:\n",
    "        lines = section_text.split('\\n')\n",
    "        section_name = lines[0]\n",
    "        section_text = '\\n'.join(lines[1:])\n",
    "        sections[section_name] = section_text\n",
    "    return sections"
   ]
  },
  {
   "cell_type": "code",
   "execution_count": 4,
   "metadata": {},
   "outputs": [],
   "source": [
    "def tokenize_sections(sections, nlp_model):\n",
    "    section_tokenizer = {}\n",
    "    for section_name, section_content in sections.items():\n",
    "        section_doc = nlp_model(section_content)\n",
    "        # section_tokens = [token for token in section_doc]\n",
    "        section_tokenizer[section_name] = section_doc\n",
    "    return section_tokenizer"
   ]
  },
  {
   "cell_type": "code",
   "execution_count": null,
   "metadata": {},
   "outputs": [],
   "source": [
    "# def process_query(query, tokenized_sections, nlp_model):\n",
    "#     nlp_query = nlp_model(query)\n",
    "#     relevant_sections = None\n",
    "#     for section in tokenized_sections:"
   ]
  },
  {
   "cell_type": "code",
   "execution_count": 5,
   "metadata": {},
   "outputs": [],
   "source": [
    "file_name = 'crudArticulo.txt'"
   ]
  },
  {
   "cell_type": "code",
   "execution_count": 6,
   "metadata": {},
   "outputs": [],
   "source": [
    "# Carga el texto desde el archivo con manejo de errores\n",
    "try:\n",
    "    text = load_text_from_file(file_name)\n",
    "except Exception as e:\n",
    "    print(\"Error:\", e)\n",
    "    exit(1)"
   ]
  },
  {
   "cell_type": "code",
   "execution_count": 7,
   "metadata": {},
   "outputs": [],
   "source": [
    "sections = process_sections_text(text)\n",
    "section_tokenizer = tokenize_sections(sections, nlp)"
   ]
  },
  {
   "cell_type": "code",
   "execution_count": 8,
   "metadata": {},
   "outputs": [],
   "source": [
    "embedder = SentenceTransformer('paraphrase-MiniLM-L6-v2')  # Carga un modelo de embeddings\n",
    "# embedder = SentenceTransformer('multi-qa-MiniLM-L6-cos-v1')  # Carga un modelo de embeddings"
   ]
  },
  {
   "cell_type": "code",
   "execution_count": 16,
   "metadata": {},
   "outputs": [],
   "source": [
    "# questions = [\"Como realizar una gestión de la evolución y operativa de los artículos\"]\n",
    "questions = \"¿Qué son los artículos?\"\n",
    "query_embedding = embedder.encode(questions, convert_to_tensor=True)"
   ]
  },
  {
   "cell_type": "code",
   "execution_count": 10,
   "metadata": {},
   "outputs": [],
   "source": [
    "# Dividir en oraciones utilizando SpaCy\n",
    "sentences = nlp(text).sents  \n",
    "sentence_embeddings = []\n",
    "for sentence in sentences:\n",
    "    sentence_embedding = embedder.encode(sentence.text, convert_to_tensor=True)\n",
    "    sentence_embeddings.append((sentence.text, sentence_embedding))"
   ]
  },
  {
   "cell_type": "code",
   "execution_count": 11,
   "metadata": {},
   "outputs": [
    {
     "name": "stdout",
     "output_type": "stream",
     "text": [
      "Permite crear nuevos Estados que permitan identificar fases de la evolución de los artículos, como por ejemplo, los artículos obsoletos.\n",
      "\n",
      "Esto hace que un artículo pueda tener una estructura que deberá definir, así como un alcance que deberá indicar: ¿controlo o no su stock?, ¿es un artículo comercializable?\n",
      "¿Cómo incorporar los Artículos al sistema?\n",
      "Existen dos formas de dar de alta los artículos al sistema: con la migración de los datos mediante la importación de ficheros o con el registro manual directamente en el sistema, ingresando los datos de nuestros artículos uno a uno.\n",
      "\n",
      "Tipos de Artículos: en la que configurará la relación entre los tipos-familias y las características que se van a manejar.\n",
      "\n",
      ", ¿es un kit?, etc…\n",
      "Antes de iniciar el registro de cualquier artículo debemos analizar cuáles son los grupos o Tipos de Artículos en los que vamos a clasificar nuestras referencias.\n",
      "El primer paso del registro de las referencias, artículos o productos con los que vamos a operar, consiste en establecer los Tipos de Artículos.\n",
      "\n",
      "Por un lado nos permitirá saber qué artículos de mi base de datos se encuentran activos en mis actividades y por otra mantendrá un histórico sobre los artículos obsoletos determinantes para realizar valoraciones en almacenes de material remanente.\n",
      "\n",
      "Los artículos son una de las bases principales para el uso de la aplicación, por ello se denominan “Maestro de Información”.\n",
      "Puedes desactivar las opciones de los conceptos que no interese trasladar a las fichas de los artículos ‘hijo’.\n",
      "\n",
      "Codificar automáticamente los artículos a partir de los identificadores de Tipo y Familia de artículo.\n",
      "Un ejemplo de la particularidad de gestión de los artículos reside en los aspectos que requiere para realizar correctamente las funciones esperadas.\n",
      "Artículos Activos y sin Uso\n",
      "Permite localizar los articulos que no han tenido movimientos desde una fecha determinada con la finalidad de saber en todo momento qué articulos tenemos y no usamos.\n",
      "\n",
      "Inicia el registro de los Artículos.\n",
      "La clasificación de artículos consiste en establecer una tipificación para nuestras referencias o artículos, proceso que se realiza en Tipos de Artículos.\n",
      "\n",
      "Compras: pertenezca a un tipo de artículo con la característica “compra” + que el estado del artículo esté activo.\n",
      "\n",
      "Generar referencias ‘hijo’:\n",
      "Una vez registrados los artículos procede a generar los nuevos artículos según sus características, para ello:\n",
      "Acceda a la ficha del artículo ‘padre’.\n",
      "\n",
      "Como último paso, el sistema muestra el cuadro de diálogo ‘Generar Artículos nuevos’ donde se muestra agrupada (según solapas de datos) la información de la ficha del artículo ‘padre’: unidades, clientes, proveedores, etc.\n",
      "Veamos a continuación de forma breve, cómo el estado o el bloqueo de artículos ponen de manifiesto la necesidad de realizar un correcto análisis de la información requerida durante el proceso de registro del maestro de artículos.\n",
      "\n",
      "Efectos:\n",
      "Se propone el Código y/o la Descripción del artículo con los datos que hayamos configurado en el criterio de codificación: tipo, familia, la unidad, empresa, marca, etc.\n",
      "Durante los procesos de gestión en los que interviene el artículo, el sistema le permite visualizar la descripción del artículo en el idioma del cliente  / proveedor, dato que se muestra en los campos de referencias.\n",
      "Tendremos especial cuidado al realizar los registros de los artículos ya que de ello depende el correcto funcionamiento del sistema.\n",
      "\n"
     ]
    }
   ],
   "source": [
    "# Calcular la similitud con las oraciones y almacenar en una lista\n",
    "similarity_list = []\n",
    "for sentence_text, sentence_embedding in sentence_embeddings:\n",
    "    similarity = util.pytorch_cos_sim(query_embedding, sentence_embedding)[0][0].item()\n",
    "    similarity_list.append((sentence_text, similarity))\n",
    "\n",
    "# Ordenar la lista por similitud en orden descendente\n",
    "similarity_list.sort(key=lambda x: x[1], reverse=True)\n",
    "# Mostrar las primeras 20 oraciones más similares\n",
    "for i, (sentence, similarity) in enumerate(similarity_list[:20]):\n",
    "    print(sentence)\n",
    "    # print(f\"Oración {i+1}:\")\n",
    "    # print(\"Texto:\", sentence)\n",
    "    # print(\"Similitud:\", similarity)\n",
    "    # print()"
   ]
  },
  {
   "cell_type": "code",
   "execution_count": 32,
   "metadata": {},
   "outputs": [],
   "source": [
    "from transformers import pipeline\n",
    "\n",
    "# Cargar el modelo de Q&A en español\n",
    "qa_pipeline  = pipeline(\n",
    "    'question-answering', \n",
    "    model='mrm8488/distill-bert-base-spanish-wwm-cased-finetuned-spa-squad2-es',\n",
    "    tokenizer=(\n",
    "        'mrm8488/distill-bert-base-spanish-wwm-cased-finetuned-spa-squad2-es'\n",
    "    )\n",
    ")\n",
    "qa_pipeline.tokenizer.truncate_sequences = 100"
   ]
  },
  {
   "cell_type": "code",
   "execution_count": 45,
   "metadata": {},
   "outputs": [
    {
     "name": "stderr",
     "output_type": "stream",
     "text": [
      "The model 'GPT2LMHeadModel' is not supported for text2text-generation. Supported models are ['BartForConditionalGeneration', 'BigBirdPegasusForConditionalGeneration', 'BlenderbotForConditionalGeneration', 'BlenderbotSmallForConditionalGeneration', 'EncoderDecoderModel', 'FSMTForConditionalGeneration', 'GPTSanJapaneseForConditionalGeneration', 'LEDForConditionalGeneration', 'LongT5ForConditionalGeneration', 'M2M100ForConditionalGeneration', 'MarianMTModel', 'MBartForConditionalGeneration', 'MT5ForConditionalGeneration', 'MvpForConditionalGeneration', 'NllbMoeForConditionalGeneration', 'PegasusForConditionalGeneration', 'PegasusXForConditionalGeneration', 'PLBartForConditionalGeneration', 'ProphetNetForConditionalGeneration', 'SwitchTransformersForConditionalGeneration', 'T5ForConditionalGeneration', 'XLMProphetNetForConditionalGeneration'].\n"
     ]
    }
   ],
   "source": [
    "from transformers import AutoTokenizer, AutoModelForCausalLM, pipeline\n",
    "\n",
    "# Cargar el modelo GPT-2 en español\n",
    "model_name = pipeline(\"text2text-generation\",model=\"datificate/gpt2-small-spanish\")\n",
    "# tokenizer2 = AutoTokenizer.from_pretrained(model_name)\n",
    "# model2 = AutoModelForCausalLM.from_pretrained(model_name)\n"
   ]
  },
  {
   "cell_type": "code",
   "execution_count": 26,
   "metadata": {},
   "outputs": [],
   "source": [
    "from transformers import AutoTokenizer\n",
    "tokenizer = AutoTokenizer.from_pretrained(\"mrm8488/distill-bert-base-spanish-wwm-cased-finetuned-spa-squad2-es\")\n",
    "# print(qa_pipeline.predict(tokenizer.encode(\"Hola mundo\")))"
   ]
  },
  {
   "cell_type": "code",
   "execution_count": 35,
   "metadata": {},
   "outputs": [],
   "source": [
    "# Texto completo (tu variable \"text\" cargada anteriormente)\n",
    "document = \"\"\"Permite crear nuevos Estados que permitan identificar fases de la evolución de los artículos, como por ejemplo, los artículos obsoletos.\n",
    "\n",
    "Esto hace que un artículo pueda tener una estructura que deberá definir, así como un alcance que deberá indicar: ¿controlo o no su stock?, ¿es un artículo comercializable?\n",
    "¿Cómo incorporar los Artículos al sistema?\n",
    "Existen dos formas de dar de alta los artículos al sistema: con la migración de los datos mediante la importación de ficheros o con el registro manual directamente en el sistema, ingresando los datos de nuestros artículos uno a uno.\n",
    "\n",
    "Tipos de Artículos: en la que configurará la relación entre los tipos-familias y las características que se van a manejar.\n",
    "\n",
    ", ¿es un kit?, etc…\n",
    "Antes de iniciar el registro de cualquier artículo debemos analizar cuáles son los grupos o Tipos de Artículos en los que vamos a clasificar nuestras referencias.\n",
    "El primer paso del registro de las referencias, artículos o productos con los que vamos a operar, consiste en establecer los Tipos de Artículos.\n",
    "\n",
    "Por un lado nos permitirá saber qué artículos de mi base de datos se encuentran activos en mis actividades y por otra mantendrá un histórico sobre los artículos obsoletos determinantes para realizar valoraciones en almacenes de material remanente.\n",
    "\n",
    "Los artículos son una de las bases principales para el uso de la aplicación, por ello se denominan “Maestro de Información”.\n",
    "Puedes desactivar las opciones de los conceptos que no interese trasladar a las fichas de los artículos ‘hijo’.\n",
    "\n",
    "Codificar automáticamente los artículos a partir de los identificadores de Tipo y Familia de artículo.\n",
    "Un ejemplo de la particularidad de gestión de los artículos reside en los aspectos que requiere para realizar correctamente las funciones esperadas.\n",
    "Artículos Activos y sin Uso\n",
    "Permite localizar los articulos que no han tenido movimientos desde una fecha determinada con la finalidad de saber en todo momento qué articulos tenemos y no usamos.\n",
    "\n",
    "Inicia el registro de los Artículos.\n",
    "La clasificación de artículos consiste en establecer una tipificación para nuestras referencias o artículos, proceso que se realiza en Tipos de Artículos.\n",
    "\n",
    "Compras: pertenezca a un tipo de artículo con la característica “compra” + que el estado del artículo esté activo.\n",
    "\n",
    "Generar referencias ‘hijo’:\n",
    "Una vez registrados los artículos procede a generar los nuevos artículos según sus características, para ello:\n",
    "Acceda a la ficha del artículo ‘padre’.\n",
    "\n",
    "Como último paso, el sistema muestra el cuadro de diálogo ‘Generar Artículos nuevos’ donde se muestra agrupada (según solapas de datos) la información de la ficha del artículo ‘padre’: unidades, clientes, proveedores, etc.\n",
    "Veamos a continuación de forma breve, cómo el estado o el bloqueo de artículos ponen de manifiesto la necesidad de realizar un correcto análisis de la información requerida durante el proceso de registro del maestro de artículos.\n",
    "\n",
    "Efectos:\n",
    "Se propone el Código y/o la Descripción del artículo con los datos que hayamos configurado en el criterio de codificación: tipo, familia, la unidad, empresa, marca, etc.\n",
    "Durante los procesos de gestión en los que interviene el artículo, el sistema le permite visualizar la descripción del artículo en el idioma del cliente  / proveedor, dato que se muestra en los campos de referencias.\n",
    "Tendremos especial cuidado al realizar los registros de los artículos ya que de ello depende el correcto funcionamiento del sistema.\"\"\""
   ]
  },
  {
   "cell_type": "code",
   "execution_count": 44,
   "metadata": {},
   "outputs": [
    {
     "name": "stderr",
     "output_type": "stream",
     "text": [
      "c:\\Users\\a.obregon\\.conda\\envs\\kMeans\\Lib\\site-packages\\transformers\\generation\\utils.py:1219: UserWarning: You have modified the pretrained model configuration to control generation. This is a deprecated strategy to control generation and will be removed soon, in a future version. Please use a generation configuration file (see https://huggingface.co/docs/transformers/main_classes/text_generation)\n",
      "  warnings.warn(\n",
      "Setting `pad_token_id` to `eos_token_id`:50256 for open-end generation.\n",
      "c:\\Users\\a.obregon\\.conda\\envs\\kMeans\\Lib\\site-packages\\transformers\\generation\\utils.py:1313: UserWarning: Using `max_length`'s default (50) to control the generation length. This behaviour is deprecated and will be removed from the config in v5 of Transformers -- we recommend using `max_new_tokens` to control the maximum length of the generation.\n",
      "  warnings.warn(\n",
      "Input length of input_ids is 716, but `max_length` is set to 50. This can lead to unexpected behavior. You should consider increasing `max_new_tokens`.\n"
     ]
    },
    {
     "data": {
      "text/plain": [
       "[{'generated_text': 'answer: ¿Qué son los artículos? context: Permite crear nuevos Estados que permitan identificar fases de la evolución de los artículos, como por ejemplo, los artículos obsoletos.\\n\\nEsto hace que un artículo pueda tener una estructura que deberá definir, así como un alcance que deberá indicar: ¿controlo o no su stock?, ¿es un artículo comercializable?\\n¿Cómo incorporar los Artículos al sistema?\\nExisten dos formas de dar de alta los artículos al sistema: con la migración de los datos mediante la importación de ficheros o con el registro manual directamente en el sistema, ingresando los datos de nuestros artículos uno a uno.\\n\\nTipos de Artículos: en la que configurará la relación entre los tipos-familias y las características que se van a manejar.\\n\\n, ¿es un kit?, etc…\\nAntes de iniciar el registro de cualquier artículo debemos analizar cuáles son los grupos o Tipos de Artículos en los que vamos a clasificar nuestras referencias.\\nEl primer paso del registro de las referencias, artículos o productos con los que vamos a operar, consiste en establecer los Tipos de Artículos.\\n\\nPor un lado nos permitirá saber qué artículos de mi base de datos se encuentran activos en mis actividades y por otra mantendrá un histórico sobre los artículos obsoletos determinantes para realizar valoraciones en almacenes de material remanente.\\n\\nLos artículos son una de las bases principales para el uso de la aplicación, por ello se denominan “Maestro de Información”.\\nPuedes desactivar las opciones de los conceptos que no interese trasladar a las fichas de los artículos ‘hijo’.\\n\\nCodificar automáticamente los artículos a partir de los identificadores de Tipo y Familia de artículo.\\nUn ejemplo de la particularidad de gestión de los artículos reside en los aspectos que requiere para realizar correctamente las funciones esperadas.\\nArtículos Activos y sin Uso\\nPermite localizar los articulos que no han tenido movimientos desde una fecha determinada con la finalidad de saber en todo momento qué articulos tenemos y no usamos.\\n\\nInicia el registro de los Artículos.\\nLa clasificación de artículos consiste en establecer una tipificación para nuestras referencias o artículos, proceso que se realiza en Tipos de Artículos.\\n\\nCompras: pertenezca a un tipo de artículo con la característica “compra” + que el estado del artículo esté activo.\\n\\nGenerar referencias ‘hijo’:\\nUna vez registrados los artículos procede a generar los nuevos artículos según sus características, para ello:\\nAcceda a la ficha del artículo ‘padre’.\\n\\nComo último paso, el sistema muestra el cuadro de diálogo ‘Generar Artículos nuevos’ donde se muestra agrupada (según solapas de datos) la información de la ficha del artículo ‘padre’: unidades, clientes, proveedores, etc.\\nVeamos a continuación de forma breve, cómo el estado o el bloqueo de artículos ponen de manifiesto la necesidad de realizar un correcto análisis de la información requerida durante el proceso de registro del maestro de artículos.\\n\\nEfectos:\\nSe propone el Código y/o la Descripción del artículo con los datos que hayamos configurado en el criterio de codificación: tipo, familia, la unidad, empresa, marca, etc.\\nDurante los procesos de gestión en los que interviene el artículo, el sistema le permite visualizar la descripción del artículo en el idioma del cliente  / proveedor, dato que se muestra en los campos de referencias.\\nTendremos especial cuidado al realizar los registros de los artículos ya que de ello depende el correcto funcionamiento del sistema.\\n'}]"
      ]
     },
     "execution_count": 44,
     "metadata": {},
     "output_type": "execute_result"
    }
   ],
   "source": [
    "# generation = f\"answer: ¿Qué son los artículos? context: {document}\"\n",
    "# input_ids = tokenizer2.encode(generation, return_tensors=\"pt\")\n",
    "# output = model2.generate(input_ids, max_length=150)\n",
    "model_name(f\"answer: ¿Qué son los artículos? context: {document}\")"
   ]
  },
  {
   "cell_type": "code",
   "execution_count": 42,
   "metadata": {},
   "outputs": [
    {
     "name": "stdout",
     "output_type": "stream",
     "text": [
      "Respuesta generada: answer: ¿Qué son los artículos? context: Permite crear nuevos Estados que permitan identificar fases de la evolución de los artículos, como por ejemplo, los artículos obsoletos.\n",
      "\n",
      "Esto hace que un artículo pueda tener una estructura que deberá definir, así como un alcance que deberá indicar: ¿controlo o no su stock?, ¿es un artículo comercializable?\n",
      "¿Cómo incorporar los Artículos al sistema?\n",
      "Existen dos formas de dar de alta los artículos al sistema: con la migración de los datos mediante la importación de ficheros o con el registro manual directamente en el sistema, ingresando los datos de nuestros artículos uno a uno.\n",
      "\n",
      "Tipos de Artículos: en la que configurará la relación entre los tipos-familias y las características que se van a manejar.\n",
      "\n",
      ", ¿es un kit?, etc…\n",
      "Antes de iniciar el registro de cualquier artículo debemos analizar cuáles son los grupos o Tipos de Artículos en los que vamos a clasificar nuestras referencias.\n",
      "El primer paso del registro de las referencias, artículos o productos con los que vamos a operar, consiste en establecer los Tipos de Artículos.\n",
      "\n",
      "Por un lado nos permitirá saber qué artículos de mi base de datos se encuentran activos en mis actividades y por otra mantendrá un histórico sobre los artículos obsoletos determinantes para realizar valoraciones en almacenes de material remanente.\n",
      "\n",
      "Los artículos son una de las bases principales para el uso de la aplicación, por ello se denominan “Maestro de Información”.\n",
      "Puedes desactivar las opciones de los conceptos que no interese trasladar a las fichas de los artículos ‘hijo’.\n",
      "\n",
      "Codificar automáticamente los artículos a partir de los identificadores de Tipo y Familia de artículo.\n",
      "Un ejemplo de la particularidad de gestión de los artículos reside en los aspectos que requiere para realizar correctamente las funciones esperadas.\n",
      "Artículos Activos y sin Uso\n",
      "Permite localizar los articulos que no han tenido movimientos desde una fecha determinada con la finalidad de saber en todo momento qué articulos tenemos y no usamos.\n",
      "\n",
      "Inicia el registro de los Artículos.\n",
      "La clasificación de artículos consiste en establecer una tipificación para nuestras referencias o artículos, proceso que se realiza en Tipos de Artículos.\n",
      "\n",
      "Compras: pertenezca a un tipo de artículo con la característica “compra” + que el estado del artículo esté activo.\n",
      "\n",
      "Generar referencias ‘hijo’:\n",
      "Una vez registrados los artículos procede a generar los nuevos artículos según sus características, para ello:\n",
      "Acceda a la ficha del artículo ‘padre’.\n",
      "\n",
      "Como último paso, el sistema muestra el cuadro de diálogo ‘Generar Artículos nuevos’ donde se muestra agrupada (según solapas de datos) la información de la ficha del artículo ‘padre’: unidades, clientes, proveedores, etc.\n",
      "Veamos a continuación de forma breve, cómo el estado o el bloqueo de artículos ponen de manifiesto la necesidad de realizar un correcto análisis de la información requerida durante el proceso de registro del maestro de artículos.\n",
      "\n",
      "Efectos:\n",
      "Se propone el Código y/o la Descripción del artículo con los datos que hayamos configurado en el criterio de codificación: tipo, familia, la unidad, empresa, marca, etc.\n",
      "Durante los procesos de gestión en los que interviene el artículo, el sistema le permite visualizar la descripción del artículo en el idioma del cliente  / proveedor, dato que se muestra en los campos de referencias.\n",
      "Tendremos especial cuidado al realizar los registros de los artículos ya que de ello depende el correcto funcionamiento del sistema.\n",
      "\n"
     ]
    }
   ],
   "source": [
    "generated_text = tokenizer2.decode(output[0], skip_special_tokens=True)\n",
    "print(\"Respuesta generada:\", generated_text)"
   ]
  },
  {
   "cell_type": "code",
   "execution_count": 33,
   "metadata": {},
   "outputs": [
    {
     "name": "stdout",
     "output_type": "stream",
     "text": [
      "Pregunta: ¿Qué son los artículos?\n",
      "{'score': 0.46201518177986145, 'start': 1307, 'end': 1364, 'answer': 'una de las bases principales para el uso de la aplicación'}\n",
      "Respuesta: una de las bases principales para el uso de la aplicación\n"
     ]
    }
   ],
   "source": [
    "\n",
    "\n",
    "# Preguntas de ejemplo\n",
    "questions = \"¿Qué son los artículos?\"\n",
    "print(\"Pregunta:\", questions)\n",
    "result = qa_pipeline(question=questions, context=document)\n",
    "print(result)\n",
    "print(\"Respuesta:\", result[\"answer\"])\n",
    "\n",
    "# for question in questions:\n",
    "#     print(\"Score:\", result[\"score\"])\n",
    "#     print()"
   ]
  }
 ],
 "metadata": {
  "kernelspec": {
   "display_name": "kMeans",
   "language": "python",
   "name": "python3"
  },
  "language_info": {
   "codemirror_mode": {
    "name": "ipython",
    "version": 3
   },
   "file_extension": ".py",
   "mimetype": "text/x-python",
   "name": "python",
   "nbconvert_exporter": "python",
   "pygments_lexer": "ipython3",
   "version": "3.11.4"
  },
  "orig_nbformat": 4
 },
 "nbformat": 4,
 "nbformat_minor": 2
}
